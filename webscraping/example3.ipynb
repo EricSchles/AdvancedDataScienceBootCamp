{
 "metadata": {
  "name": ""
 },
 "nbformat": 3,
 "nbformat_minor": 0,
 "worksheets": [
  {
   "cells": [
    {
     "cell_type": "code",
     "collapsed": false,
     "input": [
      "class Node:\n",
      "    def __init__(self,val,next=None):\n",
      "        self.val = val\n",
      "        self.next = next\n",
      "    def __str__(self):\n",
      "        return repr(self.val)\n",
      "    \n",
      "class LinkedList:\n",
      "    def __init__(self,listing):\n",
      "        self.root = Node(listing[0])\n",
      "        curr = self.root\n",
      "        for i in listing[1:]:\n",
      "            node = Node(i)\n",
      "            curr.next = node\n",
      "            curr = curr.next\n",
      "    def pretty_print(self):\n",
      "        curr = self.root\n",
      "        while curr != None:\n",
      "            print curr\n",
      "            curr = curr.next\n",
      "    def to_list(self):\n",
      "        new_list = []\n",
      "        curr = self.root\n",
      "        while curr != None:\n",
      "            new_list.append(curr.val)\n",
      "            curr = curr.next\n",
      "        return new_list\n",
      "    \n",
      "#thing = range(0,1000)\n",
      "#ll = LinkedList(thing)\n",
      "#ll.pretty_print()\n",
      "#things =  ll.to_list()\n",
      "#print type(things)\n",
      "#print things\n",
      "\n",
      "root = Node(0)\n",
      "\n",
      "curr = root\n",
      "for i in xrange(100):\n",
      "    node = Node(i)\n",
      "    curr.next = node\n",
      "    curr = curr.next\n",
      "\n"
     ],
     "language": "python",
     "metadata": {},
     "outputs": [],
     "prompt_number": 3
    }
   ],
   "metadata": {}
  }
 ]
}