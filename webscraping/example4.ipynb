{
 "metadata": {
  "name": ""
 },
 "nbformat": 3,
 "nbformat_minor": 0,
 "worksheets": [
  {
   "cells": [
    {
     "cell_type": "code",
     "collapsed": false,
     "input": [
      "class Node:\n",
      "    def __init__(self,val,left=None,right=None):\n",
      "        self.val = val\n",
      "        self.left = left\n",
      "        self.right = right\n",
      "    def __str__(self):\n",
      "        return repr(self.val)\n"
     ],
     "language": "python",
     "metadata": {},
     "outputs": []
    }
   ],
   "metadata": {}
  }
 ]
}