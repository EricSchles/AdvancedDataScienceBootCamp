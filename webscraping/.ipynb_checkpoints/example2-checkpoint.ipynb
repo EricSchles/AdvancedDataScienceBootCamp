{
 "metadata": {
  "name": ""
 },
 "nbformat": 3,
 "nbformat_minor": 0,
 "worksheets": [
  {
   "cells": [
    {
     "cell_type": "code",
     "collapsed": false,
     "input": [
      "class Node:\n",
      "    def __init__(self,val):\n",
      "        self.val = val\n",
      "        \n",
      "node_a = Node(0)\n",
      "node_b = Node(node_a)\n",
      "print node_a.val\n",
      "print node_b.val"
     ],
     "language": "python",
     "metadata": {},
     "outputs": [
      {
       "output_type": "stream",
       "stream": "stdout",
       "text": [
        "0\n",
        "<__main__.Node instance at 0x7f618aa3d5a8>\n"
       ]
      }
     ],
     "prompt_number": 10
    }
   ],
   "metadata": {}
  }
 ]
}