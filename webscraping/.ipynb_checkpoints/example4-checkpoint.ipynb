{
 "metadata": {
  "name": ""
 },
 "nbformat": 3,
 "nbformat_minor": 0,
 "worksheets": [
  {
   "cells": [
    {
     "cell_type": "code",
     "collapsed": false,
     "input": [
      "class Node:\n",
      "    def __init__(self,val,left=None,right=None):\n",
      "        self.val = val\n",
      "        self.left = left\n",
      "        self.right = right\n",
      "    def __str__(self):\n",
      "        return repr(self.val)\n",
      "    \n",
      "#this will require some thought...    \n",
      "class Tree:\n",
      "    def __init__(self,dicter):\n",
      "        self.dicter = dicter\n",
      "        self.root = Node(dicter.keys())\n",
      "        \n",
      "    def set_values(self):\n",
      "        if self.dicter.keys() == []:\n",
      "            return None\n",
      "        else:\n",
      "            return self.__set_values(self.root, self.dicter.keys()) \n",
      "    \n",
      "    def __set_values(self, root, keys):\n",
      "        for i in "
     ],
     "language": "python",
     "metadata": {},
     "outputs": []
    }
   ],
   "metadata": {}
  }
 ]
}